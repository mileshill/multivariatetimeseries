{
 "cells": [
  {
   "cell_type": "markdown",
   "metadata": {},
   "source": [
    "# LSTM Sample Implementation"
   ]
  },
  {
   "cell_type": "code",
   "execution_count": 130,
   "metadata": {
    "collapsed": false
   },
   "outputs": [
    {
     "name": "stdout",
     "output_type": "stream",
     "text": [
      "Tensorflow Version: 1.8.0\n"
     ]
    }
   ],
   "source": [
    "import glob\n",
    "import numpy as np\n",
    "import tensorflow as tf\n",
    "\n",
    "print('Tensorflow Version: {}'.format(tf.__version__))"
   ]
  },
  {
   "cell_type": "markdown",
   "metadata": {},
   "source": [
    "## Data load"
   ]
  },
  {
   "cell_type": "code",
   "execution_count": 134,
   "metadata": {
    "collapsed": false
   },
   "outputs": [
    {
     "name": "stdout",
     "output_type": "stream",
     "text": [
      "Number of samples: 1973\n"
     ]
    }
   ],
   "source": [
    "dgb = sorted(glob.glob('/home/miles/PycharmProjects/MultivariateTimeSeries/data/DGB_BTC/*'))\n",
    "\n",
    "print('Number of samples: {}'.format(len(dgb)//2 ) )"
   ]
  },
  {
   "cell_type": "code",
   "execution_count": 26,
   "metadata": {
    "collapsed": false
   },
   "outputs": [],
   "source": [
    "features = np.load(dgb[0])\n",
    "target = np.load(dgb[1])"
   ]
  },
  {
   "cell_type": "code",
   "execution_count": 65,
   "metadata": {
    "collapsed": false
   },
   "outputs": [
    {
     "data": {
      "text/plain": [
       "(1, 28, 5)"
      ]
     },
     "execution_count": 65,
     "metadata": {},
     "output_type": "execute_result"
    }
   ],
   "source": [
    "features[np.newaxis, :, :].shape"
   ]
  },
  {
   "cell_type": "code",
   "execution_count": 67,
   "metadata": {
    "collapsed": false
   },
   "outputs": [
    {
     "name": "stdout",
     "output_type": "stream",
     "text": [
      "Feature Dimensions: BATCHSIZE=1, TIMESTEPS=28, N_INPUTS=5\n",
      "Target Dimensions: (1, 1)\n"
     ]
    }
   ],
   "source": [
    "# Drop `time` column and fill na (if any)\n",
    "features = np.nan_to_num(np.delete(np.load(dgb[0]), 0, axis=1))[np.newaxis, :, :]\n",
    "target = np.array(np.load(dgb[1])).reshape(1, -1)\n",
    "\n",
    "print('Feature Dimensions: BATCHSIZE={}, TIMESTEPS={}, N_INPUTS={}'.format(*features.shape))\n",
    "print('Target Dimensions: {}'.format(target.shape))"
   ]
  },
  {
   "cell_type": "markdown",
   "metadata": {},
   "source": [
    "# Network Implementation"
   ]
  },
  {
   "cell_type": "markdown",
   "metadata": {},
   "source": [
    "## Constants"
   ]
  },
  {
   "cell_type": "code",
   "execution_count": 101,
   "metadata": {
    "collapsed": true
   },
   "outputs": [],
   "source": [
    "TIME_STEPS = 28\n",
    "N_INPUT = 5\n",
    "N_HIDDEN = 128\n",
    "LEARNING_RATE = 0.001\n",
    "NUM_UNITS = 5\n",
    "\n",
    "tf.reset_default_graph()"
   ]
  },
  {
   "cell_type": "code",
   "execution_count": 102,
   "metadata": {
    "collapsed": true
   },
   "outputs": [],
   "source": [
    "# Input placeholders\n",
    "x = tf.placeholder(tf.float32, [None, TIME_STEPS, N_INPUT])\n",
    "y = tf.placeholder(tf.float32, [None, 1])"
   ]
  },
  {
   "cell_type": "code",
   "execution_count": 107,
   "metadata": {
    "collapsed": false
   },
   "outputs": [],
   "source": [
    "out_weights = tf.Variable(tf.random_normal([NUM_UNITS, 1]))\n",
    "out_bias = tf.Variable(tf.random_normal([1]))"
   ]
  },
  {
   "cell_type": "code",
   "execution_count": 103,
   "metadata": {
    "collapsed": true
   },
   "outputs": [],
   "source": [
    "# Reshape the input tensor from [batch_size, timesteps, n_input] to\n",
    "# \"timesteps\" of [batch_size, n_input]\n",
    "unstacked_inputs = tf.unstack(x, TIME_STEPS, 1)"
   ]
  },
  {
   "cell_type": "code",
   "execution_count": 104,
   "metadata": {
    "collapsed": false
   },
   "outputs": [],
   "source": [
    "lstm_layer = tf.contrib.rnn.BasicLSTMCell(NUM_UNITS, forget_bias=1)\n",
    "outputs, _ = tf.contrib.rnn.static_rnn(lstm_layer, unstacked_inputs, dtype=tf.float32) "
   ]
  },
  {
   "cell_type": "code",
   "execution_count": 108,
   "metadata": {
    "collapsed": true
   },
   "outputs": [],
   "source": [
    "predictions = tf.matmul(outputs[-1], out_weights) + out_bias"
   ]
  },
  {
   "cell_type": "code",
   "execution_count": 116,
   "metadata": {
    "collapsed": false
   },
   "outputs": [],
   "source": [
    "loss = tf.losses.mean_squared_error(y, predictions)\n",
    "train_step = tf.train.AdamOptimizer(learning_rate=LEARNING_RATE).minimize(loss)"
   ]
  },
  {
   "cell_type": "code",
   "execution_count": 117,
   "metadata": {
    "collapsed": false
   },
   "outputs": [],
   "source": [
    "with tf.Session() as sess:\n",
    "    sess.run(tf.global_variables_initializer())\n",
    "    sess.run(x, feed_dict={x: features})\n",
    "    sess.run(y, feed_dict={y: target})\n",
    "    sess.run(unstacked_inputs, feed_dict={x: features})\n",
    "    _tmp = sess.run(predictions, feed_dict={x: features})\n",
    "    \n",
    "    sess.run(train_step, feed_dict={x: features, y: target})"
   ]
  },
  {
   "cell_type": "code",
   "execution_count": 122,
   "metadata": {
    "collapsed": false
   },
   "outputs": [
    {
     "name": "stdout",
     "output_type": "stream",
     "text": [
      "Step=0, Loss=0.6586461663246155\n",
      "Step=50, Loss=0.226825550198555\n",
      "Step=100, Loss=2.144536210835213e-06\n",
      "Step=150, Loss=1.3214857972343452e-05\n",
      "Step=200, Loss=4.419606725036829e-08\n",
      "Step=250, Loss=4.6569242906358e-10\n",
      "Step=300, Loss=3.922697670161179e-15\n",
      "Step=350, Loss=3.922697670161179e-15\n",
      "Step=400, Loss=3.922697670161179e-15\n",
      "Step=450, Loss=3.922697670161179e-15\n"
     ]
    }
   ],
   "source": [
    "with tf.Session() as sess:\n",
    "    sess.run(tf.global_variables_initializer())\n",
    "    \n",
    "    feed_dict = {x: features, y: target}\n",
    "    for step in range(500):\n",
    "        sess.run(train_step, feed_dict=feed_dict)\n",
    "        \n",
    "        if step % 50 == 0:\n",
    "            mse = sess.run(loss, feed_dict=feed_dict)\n",
    "            print(f'Step={step}, Loss={mse}')\n",
    "            \n",
    "    p = sess.run(predictions, feed_dict=feed_dict)\n",
    "        "
   ]
  }
 ],
 "metadata": {
  "kernelspec": {
   "display_name": "MVTimeSeries",
   "language": "python",
   "name": "multivariatetimeseries"
  },
  "language_info": {
   "codemirror_mode": {
    "name": "ipython",
    "version": 3
   },
   "file_extension": ".py",
   "mimetype": "text/x-python",
   "name": "python",
   "nbconvert_exporter": "python",
   "pygments_lexer": "ipython3",
   "version": "3.6.5"
  }
 },
 "nbformat": 4,
 "nbformat_minor": 2
}
