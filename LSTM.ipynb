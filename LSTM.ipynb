{
 "cells": [
  {
   "cell_type": "markdown",
   "metadata": {},
   "source": [
    "# LSTM Sample Implementation"
   ]
  },
  {
   "cell_type": "code",
   "execution_count": 1,
   "metadata": {
    "collapsed": false
   },
   "outputs": [
    {
     "name": "stdout",
     "output_type": "stream",
     "text": [
      "Tensorflow Version: 1.8.0\n"
     ]
    }
   ],
   "source": [
    "import glob\n",
    "from models import DataReader\n",
    "import numpy as np\n",
    "import tensorflow as tf\n",
    "import matplotlib.pyplot as plt\n",
    "%matplotlib inline\n",
    "\n",
    "print('Tensorflow Version: {}'.format(tf.__version__))"
   ]
  },
  {
   "cell_type": "markdown",
   "metadata": {},
   "source": [
    "## Data load"
   ]
  },
  {
   "cell_type": "code",
   "execution_count": 2,
   "metadata": {
    "collapsed": true
   },
   "outputs": [],
   "source": [
    "DIR = '/home/miles/PycharmProjects/MultivariateTimeSeries/data/'\n",
    "dr = DataReader(\n",
    "    directory=DIR,\n",
    "    coin='dgb')\n",
    "training_batches = dr.get_batch(is_training=True)\n",
    "testing_batches = dr.get_batch(is_training=False)"
   ]
  },
  {
   "cell_type": "markdown",
   "metadata": {},
   "source": [
    "# Network Implementation"
   ]
  },
  {
   "cell_type": "markdown",
   "metadata": {},
   "source": [
    "## Constants"
   ]
  },
  {
   "cell_type": "code",
   "execution_count": 3,
   "metadata": {
    "collapsed": true
   },
   "outputs": [],
   "source": [
    "TIME_STEPS = 28\n",
    "N_INPUT = 5\n",
    "N_HIDDEN = 128\n",
    "LEARNING_RATE = 0.001\n",
    "NUM_UNITS = 5\n",
    "\n",
    "tf.reset_default_graph()"
   ]
  },
  {
   "cell_type": "code",
   "execution_count": 4,
   "metadata": {
    "collapsed": true
   },
   "outputs": [],
   "source": [
    "# Input placeholders\n",
    "x = tf.placeholder(tf.float32, [None, TIME_STEPS, N_INPUT])\n",
    "y = tf.placeholder(tf.float32, [None, 1])"
   ]
  },
  {
   "cell_type": "code",
   "execution_count": 5,
   "metadata": {
    "collapsed": false
   },
   "outputs": [],
   "source": [
    "out_weights = tf.Variable(tf.random_normal([NUM_UNITS, 1]))\n",
    "out_bias = tf.Variable(tf.random_normal([1]))"
   ]
  },
  {
   "cell_type": "code",
   "execution_count": 6,
   "metadata": {
    "collapsed": true
   },
   "outputs": [],
   "source": [
    "# Reshape the input tensor from [batch_size, timesteps, n_input] to\n",
    "# \"timesteps\" of [batch_size, n_input]\n",
    "unstacked_inputs = tf.unstack(x, TIME_STEPS, 1)"
   ]
  },
  {
   "cell_type": "code",
   "execution_count": 7,
   "metadata": {
    "collapsed": false
   },
   "outputs": [],
   "source": [
    "lstm_layer = tf.contrib.rnn.BasicLSTMCell(NUM_UNITS, forget_bias=1)\n",
    "outputs, _ = tf.contrib.rnn.static_rnn(lstm_layer, unstacked_inputs, dtype=tf.float32) "
   ]
  },
  {
   "cell_type": "code",
   "execution_count": 8,
   "metadata": {
    "collapsed": true
   },
   "outputs": [],
   "source": [
    "predictions = tf.matmul(outputs[-1], out_weights) + out_bias"
   ]
  },
  {
   "cell_type": "code",
   "execution_count": 9,
   "metadata": {
    "collapsed": false
   },
   "outputs": [],
   "source": [
    "loss = tf.losses.mean_squared_error(y, predictions)\n",
    "train_step = tf.train.AdamOptimizer(learning_rate=LEARNING_RATE).minimize(loss)"
   ]
  },
  {
   "cell_type": "code",
   "execution_count": 10,
   "metadata": {
    "collapsed": false
   },
   "outputs": [
    {
     "name": "stdout",
     "output_type": "stream",
     "text": [
      "Step=0, Training Loss=0.904243528842926\n",
      "Step=1000, Training Loss=0.00043813680531457067\n",
      "Step=2000, Training Loss=0.00012755728675983846\n",
      "Step=3000, Training Loss=0.00015591495321132243\n",
      "Step=4000, Training Loss=0.000223850627662614\n",
      "Step=5000, Training Loss=4.8403991968370974e-05\n",
      "Step=6000, Training Loss=0.0003207149275112897\n",
      "Step=7000, Training Loss=2.843045149347745e-05\n",
      "Step=8000, Training Loss=0.00010222588025499135\n",
      "Step=9000, Training Loss=4.8141388106159866e-05\n",
      "Step=10000, Training Loss=5.534198135137558e-05\n",
      "Step=11000, Training Loss=5.231877003097907e-05\n",
      "Step=12000, Training Loss=3.698228465509601e-05\n",
      "Step=13000, Training Loss=3.130049299215898e-05\n",
      "Step=14000, Training Loss=5.5126445658970624e-05\n",
      "Step=15000, Training Loss=4.174189962213859e-05\n",
      "Step=16000, Training Loss=1.3889020920032635e-05\n",
      "Step=17000, Training Loss=0.00017716956790536642\n",
      "Step=18000, Training Loss=9.458422573516145e-05\n",
      "Step=19000, Training Loss=5.543175575439818e-05\n",
      "Step=20000, Training Loss=8.240020542871207e-05\n"
     ]
    }
   ],
   "source": [
    "with tf.Session() as sess:\n",
    "    sess.run(tf.global_variables_initializer())\n",
    "    test_batch = next(testing_batches)\n",
    "\n",
    "    for step in range(20001):\n",
    "        train_batch = next(training_batches)\n",
    "        features = train_batch.get('features')\n",
    "        targets = train_batch.get('targets')\n",
    "        feed_dict = {x: features, y: targets}\n",
    "        \n",
    "        sess.run(train_step, feed_dict=feed_dict)\n",
    "        \n",
    "        if step % 1000 == 0:\n",
    "            mse = sess.run(loss, feed_dict=feed_dict)\n",
    "            print(f'Step={step}, Training Loss={mse}')\n",
    "            \n",
    "        #if step % 2000 == 0:\n",
    "        #    features = test_batch.get('features')\n",
    "        #    targets = test_batch.get('targets')\n",
    "        #    feed_dict = {x: features, y: targets}\n",
    "        #    p = sess.run(loss, feed_dict=feed_dict)\n",
    "        #    print(f'\\tStep={step}, Testing Loss={mse}')\n",
    "            \n",
    "    #batch = next(testing_batches)\n",
    "    features = test_batch.get('features')\n",
    "    targets = test_batch.get('targets')\n",
    "    feed_dict = {x: features, y: targets}\n",
    "    p = sess.run(predictions, feed_dict=feed_dict)\n",
    "\n",
    "            "
   ]
  },
  {
   "cell_type": "code",
   "execution_count": 12,
   "metadata": {
    "collapsed": false
   },
   "outputs": [
    {
     "data": {
      "image/png": "[encoded data removed]",
      "text/plain": [
       "<Figure size 432x288 with 1 Axes>"
      ]
     },
     "metadata": {},
     "output_type": "display_data"
    }
   ],
   "source": [
    "fig, ax = plt.subplots()\n",
    "ax.plot(p.flatten(), label='Predictions')\n",
    "ax.plot(targets.flatten(), label='Actuals')\n",
    "ax.legend()\n",
    "ax.set_label(dr.coin)\n",
    "\n",
    "plt.show()\n"
   ]
  },
  {
   "cell_type": "code",
   "execution_count": null,
   "metadata": {
    "collapsed": true
   },
   "outputs": [],
   "source": []
  }
 ],
 "metadata": {
  "kernelspec": {
   "display_name": "MVTimeSeries",
   "language": "python",
   "name": "multivariatetimeseries"
  },
  "language_info": {
   "codemirror_mode": {
    "name": "ipython",
    "version": 3
   },
   "file_extension": ".py",
   "mimetype": "text/x-python",
   "name": "python",
   "nbconvert_exporter": "python",
   "pygments_lexer": "ipython3",
   "version": "3.6.5"
  }
 },
 "nbformat": 4,
 "nbformat_minor": 2
}
