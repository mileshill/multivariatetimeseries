{
 "cells": [
  {
   "cell_type": "markdown",
   "metadata": {},
   "source": [
    "# Convert CSV data into format for LSTM"
   ]
  },
  {
   "cell_type": "code",
   "execution_count": 1,
   "metadata": {
    "collapsed": true
   },
   "outputs": [],
   "source": [
    "import glob\n",
    "import pandas as pd\n",
    "from models import DataTransforms\n",
    "import matplotlib.pyplot as plt\n",
    "%matplotlib inline"
   ]
  },
  {
   "cell_type": "code",
   "execution_count": 2,
   "metadata": {
    "collapsed": false
   },
   "outputs": [],
   "source": [
    "FILEPATHS = glob.glob('/home/miles/Documents/CryptoTickers/*csv')\n",
    "TIMESTEPS = 28"
   ]
  },
  {
   "cell_type": "markdown",
   "metadata": {},
   "source": [
    "Each trading pair dataset is converted from a CSV of `[UTCTime, Open, High, Low, Close, VolumeTo]` into LSTM format. \n",
    "Feature files are a matrix with dimensions `[timesteps, 6]`.\n",
    "Target files are a single float value."
   ]
  },
  {
   "cell_type": "code",
   "execution_count": null,
   "metadata": {
    "collapsed": false
   },
   "outputs": [],
   "source": [
    "for file in FILEPATHS:\n",
    "    dt = DataTransforms(file)\n",
    "    dt.build_dataset(timesteps=28)"
   ]
  }
 ],
 "metadata": {
  "kernelspec": {
   "display_name": "MVTimeSeries",
   "language": "python",
   "name": "multivariatetimeseries"
  },
  "language_info": {
   "codemirror_mode": {
    "name": "ipython",
    "version": 3
   },
   "file_extension": ".py",
   "mimetype": "text/x-python",
   "name": "python",
   "nbconvert_exporter": "python",
   "pygments_lexer": "ipython3",
   "version": "3.6.5"
  }
 },
 "nbformat": 4,
 "nbformat_minor": 2
}
